{
 "cells": [
  {
   "cell_type": "code",
   "execution_count": 1,
   "id": "TnmP6ceCLnV0",
   "metadata": {
    "colab": {
     "base_uri": "https://localhost:8080/"
    },
    "id": "TnmP6ceCLnV0",
    "outputId": "c5fa8655-05ac-46b2-ad4f-2ff174ac21c3"
   },
   "outputs": [
    {
     "name": "stdout",
     "output_type": "stream",
     "text": [
      "Requirement already satisfied: scikit-plot in /usr/local/lib/python3.10/dist-packages (0.3.7)\n",
      "Requirement already satisfied: matplotlib>=1.4.0 in /usr/local/lib/python3.10/dist-packages (from scikit-plot) (3.7.1)\n",
      "Requirement already satisfied: scikit-learn>=0.18 in /usr/local/lib/python3.10/dist-packages (from scikit-plot) (1.2.2)\n",
      "Requirement already satisfied: scipy>=0.9 in /usr/local/lib/python3.10/dist-packages (from scikit-plot) (1.11.4)\n",
      "Requirement already satisfied: joblib>=0.10 in /usr/local/lib/python3.10/dist-packages (from scikit-plot) (1.3.2)\n",
      "Requirement already satisfied: contourpy>=1.0.1 in /usr/local/lib/python3.10/dist-packages (from matplotlib>=1.4.0->scikit-plot) (1.2.0)\n",
      "Requirement already satisfied: cycler>=0.10 in /usr/local/lib/python3.10/dist-packages (from matplotlib>=1.4.0->scikit-plot) (0.12.1)\n",
      "Requirement already satisfied: fonttools>=4.22.0 in /usr/local/lib/python3.10/dist-packages (from matplotlib>=1.4.0->scikit-plot) (4.49.0)\n",
      "Requirement already satisfied: kiwisolver>=1.0.1 in /usr/local/lib/python3.10/dist-packages (from matplotlib>=1.4.0->scikit-plot) (1.4.5)\n",
      "Requirement already satisfied: numpy>=1.20 in /usr/local/lib/python3.10/dist-packages (from matplotlib>=1.4.0->scikit-plot) (1.25.2)\n",
      "Requirement already satisfied: packaging>=20.0 in /usr/local/lib/python3.10/dist-packages (from matplotlib>=1.4.0->scikit-plot) (23.2)\n",
      "Requirement already satisfied: pillow>=6.2.0 in /usr/local/lib/python3.10/dist-packages (from matplotlib>=1.4.0->scikit-plot) (9.4.0)\n",
      "Requirement already satisfied: pyparsing>=2.3.1 in /usr/local/lib/python3.10/dist-packages (from matplotlib>=1.4.0->scikit-plot) (3.1.1)\n",
      "Requirement already satisfied: python-dateutil>=2.7 in /usr/local/lib/python3.10/dist-packages (from matplotlib>=1.4.0->scikit-plot) (2.8.2)\n",
      "Requirement already satisfied: threadpoolctl>=2.0.0 in /usr/local/lib/python3.10/dist-packages (from scikit-learn>=0.18->scikit-plot) (3.3.0)\n",
      "Requirement already satisfied: six>=1.5 in /usr/local/lib/python3.10/dist-packages (from python-dateutil>=2.7->matplotlib>=1.4.0->scikit-plot) (1.16.0)\n"
     ]
    }
   ],
   "source": [
    "# !pip install scikit-plot"
   ]
  },
  {
   "cell_type": "code",
   "execution_count": 1,
   "id": "IUkvcptnLWx5",
   "metadata": {
    "colab": {
     "base_uri": "https://localhost:8080/"
    },
    "id": "IUkvcptnLWx5",
    "outputId": "85ad9fe5-91bf-4246-af45-214496a012e6"
   },
   "outputs": [
    {
     "name": "stderr",
     "output_type": "stream",
     "text": [
      "[nltk_data] Downloading package stopwords to\n",
      "[nltk_data]     C:\\Users\\aom2\\AppData\\Roaming\\nltk_data...\n",
      "[nltk_data]   Package stopwords is already up-to-date!\n"
     ]
    }
   ],
   "source": [
    "import pandas as pd\n",
    "import numpy as np\n",
    "import nltk\n",
    "nltk.download('stopwords')\n",
    "from nltk.corpus import stopwords\n",
    "\n",
    "from sklearn.feature_extraction.text import CountVectorizer\n",
    "from sklearn.feature_extraction.text import TfidfVectorizer\n",
    "from sklearn.model_selection import train_test_split\n",
    "\n",
    "from sklearn.naive_bayes import MultinomialNB\n",
    "from sklearn.linear_model import LogisticRegression\n",
    "from sklearn import svm\n",
    "from sklearn.svm import LinearSVC\n",
    "from sklearn.neighbors import KNeighborsClassifier\n",
    "from sklearn.ensemble import AdaBoostClassifier\n",
    "from sklearn.ensemble import GradientBoostingClassifier\n",
    "from sklearn.ensemble import RandomForestClassifier\n",
    "\n",
    "from sklearn.metrics import accuracy_score, classification_report, f1_score, recall_score, precision_score\n",
    "import matplotlib.pyplot as plt\n",
    "import scikitplot as skplt"
   ]
  },
  {
   "cell_type": "code",
   "execution_count": 3,
   "id": "3f3a63a4",
   "metadata": {
    "id": "3f3a63a4"
   },
   "outputs": [],
   "source": [
    "df_bin = pd.read_excel(\"content/final_trainset.xlsx\")\n",
    "df_bin['binary2_label'].value_counts()\n",
    "df_test = pd.read_excel(\"content/final_testset.xlsx\")\n",
    "df_bin['ABSTRACT'] = df_bin['ABSTRACT'].apply(str.lower)\n",
    "df_test['ABSTRACT'] = df_test['ABSTRACT'].apply(str.lower)"
   ]
  },
  {
   "cell_type": "code",
   "execution_count": 6,
   "id": "f42e0c79",
   "metadata": {
    "id": "f42e0c79"
   },
   "outputs": [],
   "source": [
    "def bin_model(model_type, vectortype):\n",
    "    if vectortype == \"tfidf\":\n",
    "        vectorizer = TfidfVectorizer()\n",
    "    elif vectortype == \"countvec\":\n",
    "        vectorizer = CountVectorizer()\n",
    "\n",
    "    bow_train = np.array(vectorizer.fit_transform(df_bin['ABSTRACT']).todense())\n",
    "\n",
    "    X_train = bow_train\n",
    "    y_train = df_bin['binary2_label']\n",
    "\n",
    "    if model_type == 'nb':\n",
    "        model = MultinomialNB().fit(X_train, y_train)\n",
    "    elif model_type == 'lr':\n",
    "        model = LogisticRegression(max_iter=1000).fit(X_train, y_train)\n",
    "    elif model_type == 'svm':\n",
    "        model = LinearSVC().fit(X_train, y_train)\n",
    "    elif model_type == 'knn':\n",
    "        model = KNeighborsClassifier(n_neighbors=7).fit(X_train, y_train)\n",
    "    elif model_type == 'rf':\n",
    "        model = RandomForestClassifier().fit(X_train, y_train)\n",
    "    elif model_type == 'ada':\n",
    "        model = AdaBoostClassifier(n_estimators=50).fit(X_train, y_train)\n",
    "    elif model_type == 'gb':\n",
    "        model = GradientBoostingClassifier(n_estimators=50).fit(X_train, y_train)\n",
    "\n",
    "    print('Training Accuracy:', model.score(X_train, y_train))\n",
    "\n",
    "    bow_test = vectorizer.transform(df_test['ABSTRACT'])\n",
    "    X_test = bow_test\n",
    "    y_test = df_test['binary2_label']\n",
    "    y_pred = model.predict(X_test)\n",
    "\n",
    "    print('Test Accuracy:', accuracy_score(y_test, y_pred))\n",
    "    print('F1 score:', f1_score(y_test, y_pred, average=\"macro\"))\n",
    "    print('Precision:', precision_score(y_test, y_pred, average=\"macro\"))\n",
    "    print('Recall:', recall_score(y_test, y_pred, average=\"macro\"))\n",
    "\n",
    "    fig = plt.figure(figsize=(15,6))\n",
    "    ax1 = fig.add_subplot(121)\n",
    "\n",
    "    skplt.metrics.plot_confusion_matrix(y_test, y_pred,\n",
    "                                    title=\"Binary Confusion Matrix\",\n",
    "                                    ax=ax1)\n",
    "#     plt.savefig('/content/drive/MyDrive/BinMLResults' + model_type + '_' + vectortype + '_binmat.png')\n",
    "    # return y_test, y_pred"
   ]
  },
  {
   "cell_type": "code",
   "execution_count": 7,
   "id": "pw9SLlcxV4eX",
   "metadata": {
    "id": "pw9SLlcxV4eX"
   },
   "outputs": [],
   "source": [
    "# from google.colab import drive\n",
    "# drive.mount('/content/drive')"
   ]
  },
  {
   "cell_type": "code",
   "execution_count": 8,
   "id": "28a614a7",
   "metadata": {},
   "outputs": [
    {
     "name": "stderr",
     "output_type": "stream",
     "text": [
      "C:\\Users\\aom2\\AppData\\Local\\anaconda3\\Lib\\site-packages\\sklearn\\svm\\_classes.py:31: FutureWarning: The default value of `dual` will change from `True` to `'auto'` in 1.5. Set the value of `dual` explicitly to suppress the warning.\n",
      "  warnings.warn(\n"
     ]
    },
    {
     "name": "stdout",
     "output_type": "stream",
     "text": [
      "Training Accuracy: 0.9843473870234789\n",
      "Test Accuracy: 0.78125\n",
      "F1 score: 0.7721809986339045\n",
      "Precision: 0.7801282051282051\n",
      "Recall: 0.7685861522823441\n"
     ]
    },
    {
     "data": {
      "image/png": "[encoded data removed]",
      "text/plain": [
       "<Figure size 1500x600 with 2 Axes>"
      ]
     },
     "metadata": {},
     "output_type": "display_data"
    }
   ],
   "source": [
    "bin_model('svm', 'tfidf')"
   ]
  },
  {
   "cell_type": "code",
   "execution_count": 1,
   "id": "abaa8ea1",
   "metadata": {
    "colab": {
     "base_uri": "https://localhost:8080/",
     "height": 614
    },
    "id": "abaa8ea1",
    "outputId": "d9c8b140-a73a-468d-b022-e64bac33a305"
   },
   "outputs": [
    {
     "ename": "NameError",
     "evalue": "name 'bin_model' is not defined",
     "output_type": "error",
     "traceback": [
      "\u001b[1;31m---------------------------------------------------------------------------\u001b[0m",
      "\u001b[1;31mNameError\u001b[0m                                 Traceback (most recent call last)",
      "Cell \u001b[1;32mIn[1], line 1\u001b[0m\n\u001b[1;32m----> 1\u001b[0m bin_model(\u001b[38;5;124m'\u001b[39m\u001b[38;5;124mknn\u001b[39m\u001b[38;5;124m'\u001b[39m, \u001b[38;5;124m'\u001b[39m\u001b[38;5;124mtfidf\u001b[39m\u001b[38;5;124m'\u001b[39m)\n",
      "\u001b[1;31mNameError\u001b[0m: name 'bin_model' is not defined"
     ]
    }
   ],
   "source": [
    "bin_model('knn', 'tfidf')"
   ]
  },
  {
   "cell_type": "code",
   "execution_count": null,
   "id": "12ad0cbe",
   "metadata": {},
   "outputs": [],
   "source": []
  }
 ],
 "metadata": {
  "colab": {
   "provenance": []
  },
  "kernelspec": {
   "display_name": "Python 3 (ipykernel)",
   "language": "python",
   "name": "python3"
  },
  "language_info": {
   "codemirror_mode": {
    "name": "ipython",
    "version": 3
   },
   "file_extension": ".py",
   "mimetype": "text/x-python",
   "name": "python",
   "nbconvert_exporter": "python",
   "pygments_lexer": "ipython3",
   "version": "3.11.5"
  }
 },
 "nbformat": 4,
 "nbformat_minor": 5
}
