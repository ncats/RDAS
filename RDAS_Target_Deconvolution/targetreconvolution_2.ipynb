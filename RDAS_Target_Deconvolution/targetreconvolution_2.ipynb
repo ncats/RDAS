{
  "nbformat": 4,
  "nbformat_minor": 0,
  "metadata": {
    "colab": {
      "provenance": []
    },
    "kernelspec": {
      "name": "python3",
      "display_name": "Python 3"
    },
    "language_info": {
      "name": "python"
    }
  },
  "cells": [
    {
      "cell_type": "code",
      "execution_count": 1,
      "metadata": {
        "colab": {
          "base_uri": "https://localhost:8080/",
          "height": 0
        },
        "id": "Af4m-RsX_a8s",
        "outputId": "cc5903b1-5b99-45e8-bfa8-aeb035f8fd35"
      },
      "outputs": [
        {
          "output_type": "stream",
          "name": "stdout",
          "text": [
            "Collecting rdkit\n",
            "  Downloading rdkit-2023.9.5-cp310-cp310-manylinux_2_17_x86_64.manylinux2014_x86_64.whl (34.4 MB)\n",
            "\u001b[2K     \u001b[90m━━━━━━━━━━━━━━━━━━━━━━━━━━━━━━━━━━━━━━━━\u001b[0m \u001b[32m34.4/34.4 MB\u001b[0m \u001b[31m36.6 MB/s\u001b[0m eta \u001b[36m0:00:00\u001b[0m\n",
            "\u001b[?25hRequirement already satisfied: numpy in /usr/local/lib/python3.10/dist-packages (from rdkit) (1.25.2)\n",
            "Requirement already satisfied: Pillow in /usr/local/lib/python3.10/dist-packages (from rdkit) (9.4.0)\n",
            "Installing collected packages: rdkit\n",
            "Successfully installed rdkit-2023.9.5\n"
          ]
        }
      ],
      "source": [
        "!python -m pip install rdkit"
      ]
    },
    {
      "cell_type": "markdown",
      "source": [
        "https://ftp.ncbi.nlm.nih.gov/pubchem/Compound/\n",
        "\n",
        "https://pubchem.ncbi.nlm.nih.gov/\n",
        "\n",
        "https://chembl.gitbook.io/chembl-interface-documentation/downloads\n",
        "\n",
        "https://ftp.ebi.ac.uk/pub/databases/chembl/ChEMBLdb/latest/"
      ],
      "metadata": {
        "id": "RZdPfQTnATuX"
      }
    },
    {
      "cell_type": "code",
      "source": [
        "#from chembl_webresource_client.new_client import new_client\n",
        "from rdkit import Chem\n",
        "from rdkit.Chem import MACCSkeys\n",
        "from rdkit import DataStructs\n",
        "\n",
        "def perform_similarity_search(compound_smiles, chembl_compounds, threshold=0.3):\n",
        "    query_mol = Chem.MolFromSmiles(compound_smiles)\n",
        "    query_fp = MACCSkeys.GenMACCSKeys(query_mol)\n",
        "\n",
        "    similar_compounds = []\n",
        "    # Iterate over compounds in ChEMBL and calculate similarity\n",
        "    for molecule in chembl_compounds:\n",
        "        try:\n",
        "            smiles = molecule['molecule_structures']['canonical_smiles']\n",
        "            mol = Chem.MolFromSmiles(smiles)\n",
        "            if mol is not None:\n",
        "                fp = MACCSkeys.GenMACCSKeys(mol)\n",
        "                similarity = DataStructs.FingerprintSimilarity(query_fp, fp)\n",
        "                if similarity >= threshold:\n",
        "                    similar_compounds.append(molecule['molecule_chembl_id'])\n",
        "        except KeyError:\n",
        "            continue  # Skip this molecule if structure information is not available\n",
        "\n",
        "    return similar_compounds\n"
      ],
      "metadata": {
        "id": "tBO3dwN3_woU"
      },
      "execution_count": null,
      "outputs": []
    },
    {
      "cell_type": "code",
      "source": [
        "from rdkit import Chem\n",
        "from rdkit.Chem import MACCSkeys, DataStructs\n",
        "\n",
        "# Define a sample query compound SMILES string\n",
        "query_smiles = 'CCO'\n",
        "\n",
        "# Define a sample ChEMBL compounds list (just for demonstration)\n",
        "chembl_compounds = [\n",
        "    {'molecule_structures': {'canonical_smiles': 'CCOCO'}, 'molecule_chembl_id': 'CHEMBL1'},\n",
        "    {'molecule_structures': {'canonical_smiles': 'CCN'}, 'molecule_chembl_id': 'CHEMBL2'},\n",
        "    {'molecule_structures': {'canonical_smiles': 'CCC'}, 'molecule_chembl_id': 'CHEMBL3'}\n",
        "]\n",
        "\n",
        "# Define a threshold for similarity\n",
        "threshold = 0.4\n",
        "\n",
        "# Perform similarity search\n",
        "similar_compounds = perform_similarity_search(query_smiles, chembl_compounds, threshold)\n",
        "\n",
        "# Print the similar compounds found\n",
        "print(\"Similar compounds:\")\n",
        "for compound in similar_compounds:\n",
        "    print(compound)"
      ],
      "metadata": {
        "colab": {
          "base_uri": "https://localhost:8080/"
        },
        "id": "wznjW6Lx_ia9",
        "outputId": "96400aa5-d6b1-48a3-e9a8-5447a5f79986"
      },
      "execution_count": null,
      "outputs": [
        {
          "output_type": "stream",
          "name": "stdout",
          "text": [
            "Similar compounds:\n",
            "CHEMBL1\n"
          ]
        }
      ]
    },
    {
      "cell_type": "code",
      "source": [
        "!pip install chembl-webresource-client"
      ],
      "metadata": {
        "id": "1wBxUKHCFcPO",
        "colab": {
          "base_uri": "https://localhost:8080/",
          "height": 0
        },
        "outputId": "7d532151-d937-4728-eb5c-0c6be32f505f"
      },
      "execution_count": 1,
      "outputs": [
        {
          "output_type": "stream",
          "name": "stdout",
          "text": [
            "Collecting chembl-webresource-client\n",
            "  Downloading chembl_webresource_client-0.10.8-py3-none-any.whl (55 kB)\n",
            "\u001b[?25l     \u001b[90m━━━━━━━━━━━━━━━━━━━━━━━━━━━━━━━━━━━━━━━━\u001b[0m \u001b[32m0.0/55.2 kB\u001b[0m \u001b[31m?\u001b[0m eta \u001b[36m-:--:--\u001b[0m\r\u001b[2K     \u001b[90m━━━━━━━━━━━━━━━━━━━━━━━━━━━━━━━━━━━━━━━━\u001b[0m \u001b[32m55.2/55.2 kB\u001b[0m \u001b[31m2.3 MB/s\u001b[0m eta \u001b[36m0:00:00\u001b[0m\n",
            "\u001b[?25hRequirement already satisfied: urllib3 in /usr/local/lib/python3.10/dist-packages (from chembl-webresource-client) (2.0.7)\n",
            "Requirement already satisfied: requests>=2.18.4 in /usr/local/lib/python3.10/dist-packages (from chembl-webresource-client) (2.31.0)\n",
            "Collecting requests-cache~=0.7.0 (from chembl-webresource-client)\n",
            "  Downloading requests_cache-0.7.5-py3-none-any.whl (39 kB)\n",
            "Requirement already satisfied: easydict in /usr/local/lib/python3.10/dist-packages (from chembl-webresource-client) (1.12)\n",
            "Requirement already satisfied: charset-normalizer<4,>=2 in /usr/local/lib/python3.10/dist-packages (from requests>=2.18.4->chembl-webresource-client) (3.3.2)\n",
            "Requirement already satisfied: idna<4,>=2.5 in /usr/local/lib/python3.10/dist-packages (from requests>=2.18.4->chembl-webresource-client) (3.6)\n",
            "Requirement already satisfied: certifi>=2017.4.17 in /usr/local/lib/python3.10/dist-packages (from requests>=2.18.4->chembl-webresource-client) (2024.2.2)\n",
            "Collecting attrs<22.0,>=21.2 (from requests-cache~=0.7.0->chembl-webresource-client)\n",
            "  Downloading attrs-21.4.0-py2.py3-none-any.whl (60 kB)\n",
            "\u001b[2K     \u001b[90m━━━━━━━━━━━━━━━━━━━━━━━━━━━━━━━━━━━━━━━━\u001b[0m \u001b[32m60.6/60.6 kB\u001b[0m \u001b[31m6.4 MB/s\u001b[0m eta \u001b[36m0:00:00\u001b[0m\n",
            "\u001b[?25hRequirement already satisfied: itsdangerous>=2.0.1 in /usr/local/lib/python3.10/dist-packages (from requests-cache~=0.7.0->chembl-webresource-client) (2.1.2)\n",
            "Requirement already satisfied: pyyaml>=5.4 in /usr/local/lib/python3.10/dist-packages (from requests-cache~=0.7.0->chembl-webresource-client) (6.0.1)\n",
            "Collecting url-normalize<2.0,>=1.4 (from requests-cache~=0.7.0->chembl-webresource-client)\n",
            "  Downloading url_normalize-1.4.3-py2.py3-none-any.whl (6.8 kB)\n",
            "Requirement already satisfied: six in /usr/local/lib/python3.10/dist-packages (from url-normalize<2.0,>=1.4->requests-cache~=0.7.0->chembl-webresource-client) (1.16.0)\n",
            "Installing collected packages: url-normalize, attrs, requests-cache, chembl-webresource-client\n",
            "  Attempting uninstall: attrs\n",
            "    Found existing installation: attrs 23.2.0\n",
            "    Uninstalling attrs-23.2.0:\n",
            "      Successfully uninstalled attrs-23.2.0\n",
            "\u001b[31mERROR: pip's dependency resolver does not currently take into account all the packages that are installed. This behaviour is the source of the following dependency conflicts.\n",
            "jsonschema 4.19.2 requires attrs>=22.2.0, but you have attrs 21.4.0 which is incompatible.\n",
            "referencing 0.33.0 requires attrs>=22.2.0, but you have attrs 21.4.0 which is incompatible.\u001b[0m\u001b[31m\n",
            "\u001b[0mSuccessfully installed attrs-21.4.0 chembl-webresource-client-0.10.8 requests-cache-0.7.5 url-normalize-1.4.3\n"
          ]
        }
      ]
    },
    {
      "cell_type": "markdown",
      "source": [
        "https://mybinder.org/v2/gh/chembl/chembl_webresource_client/master?filepath=demo_wrc.ipynb"
      ],
      "metadata": {
        "id": "CQ_9Nl1gHSRp"
      }
    },
    {
      "cell_type": "code",
      "source": [
        "from chembl_webresource_client.new_client import new_client\n",
        "\n",
        "similarity = new_client.similarity\n",
        "res = similarity.filter(smiles=\"CO[C@@H](CCC#C\\C=C/CCCC(C)CCCCC=C)C(=O)[O-]\", similarity=70).only(['molecule_chembl_id', 'similarity'])\n",
        "for i in res:\n",
        "    print(i)"
      ],
      "metadata": {
        "colab": {
          "base_uri": "https://localhost:8080/",
          "height": 0
        },
        "id": "t2QIFIhoFUIH",
        "outputId": "683d0783-6d99-4f41-b6c0-30b51a7c24d6"
      },
      "execution_count": 2,
      "outputs": [
        {
          "output_type": "stream",
          "name": "stdout",
          "text": [
            "{'molecule_chembl_id': 'CHEMBL478779', 'similarity': '85.4166686534881591796875'}\n",
            "{'molecule_chembl_id': 'CHEMBL477889', 'similarity': '85.4166686534881591796875'}\n",
            "{'molecule_chembl_id': 'CHEMBL477888', 'similarity': '85.4166686534881591796875'}\n",
            "{'molecule_chembl_id': 'CHEMBL2304268', 'similarity': '70.1754391193389892578125'}\n"
          ]
        }
      ]
    },
    {
      "cell_type": "code",
      "source": [
        "from chembl_webresource_client.new_client import new_client\n",
        "\n",
        "def perform_similarity_search(smiles, threshold=60):\n",
        "    similarity = new_client.similarity\n",
        "    # Perform similarity search using ChEMBL's similarity search API\n",
        "    res = similarity.filter(smiles=smiles, similarity=threshold).only(['molecule_chembl_id', 'similarity'])\n",
        "    similar_compounds = [(entry['molecule_chembl_id'],round(float(entry['similarity']),2)) for entry in res]\n",
        "    similar_compounds_ = [entry['molecule_chembl_id'] for entry in res]\n",
        "    return similar_compounds_\n",
        "\n",
        "# Screening compounds with their IDs and SMILES strings\n",
        "screening_compounds = {\n",
        "    'NCGC00602080-03': 'CC1=C2C(=NN1C3=CC=C(C)C=C3)C(=O)N(CCCCNCCC4=C(F)C=CC=C4)N=C2C',\n",
        "    'NCGC00685598-01': 'CC1=C2C(=NN1C3=CC=C(C)C=C3)C(=O)N(CCCCNCCC4=CC=CC=C4)N=C2C',\n",
        "    'NCGC00685517-01': 'CC1=C2C(=NN1C3=CC=C(C)C=C3)C(=O)N(CCCCNCCC4=CC=CC(F)=C4)N=C2C',\n",
        "    'NCGC00686269-01': 'CC1=C2C(=NN1C3=CC=C(C)C=C3)C(=O)N(CCCCNCCC4=CC(F)=CC(F)=C4)N=C2C'}\n",
        "\n",
        "# Perform chemical structure similarity search against ChEMBL for each screening compound\n",
        "similar_compounds_dict = {}\n",
        "for compound_id, compound_smiles in screening_compounds.items():\n",
        "    similar_compounds = perform_similarity_search(compound_smiles)\n",
        "    print(similar_compounds)\n",
        "    similar_compounds_dict[compound_id] = similar_compounds\n",
        "\n",
        "similar_compounds_dict"
      ],
      "metadata": {
        "colab": {
          "base_uri": "https://localhost:8080/",
          "height": 0
        },
        "id": "T0UW1DfYF_1B",
        "outputId": "3d155202-c697-4214-b351-402bc98935b0"
      },
      "execution_count": 3,
      "outputs": [
        {
          "output_type": "stream",
          "name": "stdout",
          "text": [
            "['CHEMBL1486414', 'CHEMBL1599454', 'CHEMBL1314806']\n",
            "['CHEMBL1409278', 'CHEMBL1437723', 'CHEMBL1894934', 'CHEMBL1522660', 'CHEMBL1360118', 'CHEMBL1571836', 'CHEMBL1532410', 'CHEMBL1395809', 'CHEMBL1700697', 'CHEMBL1419234']\n",
            "['CHEMBL1430536', 'CHEMBL1409278', 'CHEMBL1358484']\n",
            "['CHEMBL1360118']\n"
          ]
        },
        {
          "output_type": "execute_result",
          "data": {
            "text/plain": [
              "{'NCGC00602080-03': ['CHEMBL1486414', 'CHEMBL1599454', 'CHEMBL1314806'],\n",
              " 'NCGC00685598-01': ['CHEMBL1409278',\n",
              "  'CHEMBL1437723',\n",
              "  'CHEMBL1894934',\n",
              "  'CHEMBL1522660',\n",
              "  'CHEMBL1360118',\n",
              "  'CHEMBL1571836',\n",
              "  'CHEMBL1532410',\n",
              "  'CHEMBL1395809',\n",
              "  'CHEMBL1700697',\n",
              "  'CHEMBL1419234'],\n",
              " 'NCGC00685517-01': ['CHEMBL1430536', 'CHEMBL1409278', 'CHEMBL1358484'],\n",
              " 'NCGC00686269-01': ['CHEMBL1360118']}"
            ]
          },
          "metadata": {},
          "execution_count": 3
        }
      ]
    },
    {
      "cell_type": "code",
      "source": [
        "from chembl_webresource_client.new_client import new_client\n",
        "\n",
        "def perform_connectivity_search(smiles, threshold=60):\n",
        "    molecule = new_client.molecule\n",
        "    # Perform similarity search using ChEMBL's similarity search API\n",
        "    res = molecule.filter(molecule_structures__canonical_smiles__connectivity=smiles).only(['molecule_chembl_id', 'pref_name'])\n",
        "    similar_compounds = [(entry['molecule_chembl_id'],entry['pref_name']) for entry in res]\n",
        "    return similar_compounds\n",
        "\n",
        "# Screening compounds with their IDs and SMILES strings\n",
        "screening_compounds = {\n",
        "    'NCGC00602080-03': 'CC1=C2C(=NN1C3=CC=C(C)C=C3)C(=O)N(CCCCNCCC4=C(F)C=CC=C4)N=C2C',\n",
        "    'NCGC00685598-01': 'CC1=C2C(=NN1C3=CC=C(C)C=C3)C(=O)N(CCCCNCCC4=CC=CC=C4)N=C2C',\n",
        "    'NCGC00685517-01': 'CC1=C2C(=NN1C3=CC=C(C)C=C3)C(=O)N(CCCCNCCC4=CC=CC(F)=C4)N=C2C',\n",
        "    'NCGC00686269-01': 'CC1=C2C(=NN1C3=CC=C(C)C=C3)C(=O)N(CCCCNCCC4=CC(F)=CC(F)=C4)N=C2C'}\n",
        "\n",
        "# Perform chemical structure similarity search against ChEMBL for each screening compound\n",
        "similar_compounds_dict = {}\n",
        "for compound_id, compound_smiles in screening_compounds.items():\n",
        "    similar_compounds = perform_connectivity_search(compound_smiles)\n",
        "    print(similar_compounds)\n",
        "    similar_compounds_dict[compound_id] = similar_compounds"
      ],
      "metadata": {
        "colab": {
          "base_uri": "https://localhost:8080/"
        },
        "id": "17Mkp1kKH0iD",
        "outputId": "78b2d849-3ffc-4505-e2aa-f7fb7e371031"
      },
      "execution_count": null,
      "outputs": [
        {
          "output_type": "stream",
          "name": "stdout",
          "text": [
            "[]\n",
            "[]\n",
            "[]\n",
            "[]\n"
          ]
        }
      ]
    },
    {
      "cell_type": "code",
      "source": [
        "from chembl_webresource_client.new_client import new_client\n",
        "\n",
        "target = new_client.target\n",
        "gene_name = 'BRD4'\n",
        "res = target.filter(target_synonym__icontains=gene_name).only(['organism', 'pref_name', 'target_type'])\n",
        "for i in res:\n",
        "    print(i)\n"
      ],
      "metadata": {
        "colab": {
          "base_uri": "https://localhost:8080/"
        },
        "id": "8TUK2DocKO7Y",
        "outputId": "45393b2b-ae44-466b-c4b1-9e38cc251641"
      },
      "execution_count": null,
      "outputs": [
        {
          "output_type": "stream",
          "name": "stdout",
          "text": [
            "{'organism': 'Homo sapiens', 'pref_name': 'Bromodomain-containing protein 4', 'target_type': 'SINGLE PROTEIN'}\n",
            "{'organism': 'Mus musculus', 'pref_name': 'Bromodomain-containing protein 4', 'target_type': 'SINGLE PROTEIN'}\n",
            "{'organism': 'Homo sapiens', 'pref_name': 'BRD4/HDAC1', 'target_type': 'PROTEIN COMPLEX'}\n",
            "{'organism': 'Homo sapiens', 'pref_name': 'Cereblon/Cullin-4A/Bromodomain-containing protein 4', 'target_type': 'PROTEIN-PROTEIN INTERACTION'}\n",
            "{'organism': 'Homo sapiens', 'pref_name': 'Cereblon/Bromodomain-containing protein 4', 'target_type': 'PROTEIN-PROTEIN INTERACTION'}\n",
            "{'organism': 'Homo sapiens', 'pref_name': 'von Hippel-Lindau disease tumor suppressor/Bromodomain-containing protein 4', 'target_type': 'PROTEIN-PROTEIN INTERACTION'}\n",
            "{'organism': 'Homo sapiens', 'pref_name': 'Cereblon/DNA damage-binding protein 1/Bromodomain-containing protein 4', 'target_type': 'PROTEIN-PROTEIN INTERACTION'}\n",
            "{'organism': 'Homo sapiens', 'pref_name': 'von Hippel-Lindau disease tumor suppressor/Elongin-B/Elongin-C/Bromodomain-containing protein 4', 'target_type': 'PROTEIN-PROTEIN INTERACTION'}\n",
            "{'organism': 'Homo sapiens', 'pref_name': 'Bromodomain and extra-terminal motif (BET)', 'target_type': 'PROTEIN FAMILY'}\n",
            "{'organism': 'Homo sapiens', 'pref_name': 'BRD4/E3 ubiquitin-protein ligase Mdm2', 'target_type': 'PROTEIN-PROTEIN INTERACTION'}\n",
            "{'organism': 'Homo sapiens', 'pref_name': 'BRD4/E3 ubiquitin-protein ligase XIAP', 'target_type': 'PROTEIN-PROTEIN INTERACTION'}\n"
          ]
        }
      ]
    },
    {
      "cell_type": "code",
      "source": [
        "from chembl_webresource_client.new_client import new_client\n",
        "target = new_client.target\n",
        "gene_name = 'CHEMBL1829'\n",
        "res = target.filter(target=gene_name).only(['organism', 'pref_name', 'target_type'])\n",
        "for i in res:\n",
        "    print(i)"
      ],
      "metadata": {
        "id": "ww7qcll5RxvY"
      },
      "execution_count": null,
      "outputs": []
    },
    {
      "cell_type": "code",
      "source": [
        "from chembl_webresource_client.new_client import new_client\n",
        "\n",
        "def get_targets(chembl_ids):\n",
        "    targets = set()\n",
        "    target_client = new_client.target\n",
        "    for chembl_id in chembl_ids:\n",
        "        # Filter targets associated with the ChEMBL compound\n",
        "        res = target_client.filter(target=chembl_id).only(['organism', 'pref_name', 'target_type'])\n",
        "        for entry in res:\n",
        "            targets.add((entry['organism'], entry['pref_name'], entry['target_type']))\n",
        "    return targets\n",
        "\n",
        "# Define the TOR1A target\n",
        "TOR1A = 'CHEMBL1829'\n",
        "\n",
        "# Get targets associated with ChEMBL compounds\n",
        "chembl_targets = set()\n",
        "for similar_compounds in similar_compounds_dict.values():\n",
        "    chembl_targets.update(get_targets(similar_compounds))\n",
        "\n",
        "# Compare ChEMBL targets with TOR1A to identify shared targets\n",
        "shared_targets = [target for target in chembl_targets if target[0] == 'Homo sapiens' and target[1] == 'TOR1A']\n",
        "\n",
        "# Print the shared targets\n",
        "print(\"Shared targets associated with DYT1 (TOR1A):\")\n",
        "for target in shared_targets:\n",
        "    print(target)"
      ],
      "metadata": {
        "id": "sgW5TED90Kz7"
      },
      "execution_count": null,
      "outputs": []
    },
    {
      "cell_type": "code",
      "source": [
        "from chembl_webresource_client.new_client import new_client\n",
        "\n",
        "def get_targets(chembl_ids):\n",
        "    targets = set()\n",
        "    target_client = new_client.target\n",
        "    for chembl_id in chembl_ids:\n",
        "        # Filter targets associated with the ChEMBL compound\n",
        "        res = target_client.filter(target=chembl_id).only(['organism', 'pref_name', 'target_type'])\n",
        "        for entry in res:\n",
        "            targets.add((entry['organism'], entry['pref_name'], entry['target_type']))\n",
        "    return targets\n",
        "\n",
        "# Define the TOR1A target\n",
        "TOR1A = 'CHEMBL1829'\n",
        "\n",
        "# Get targets associated with ChEMBL compounds\n",
        "chembl_targets = set()\n",
        "for similar_compounds in similar_compounds_dict.values():\n",
        "    chembl_targets.update(get_targets(similar_compounds))\n",
        "\n",
        "# Compare ChEMBL targets with TOR1A to identify shared targets\n",
        "shared_targets = [target for target in chembl_targets if target[0] == 'Homo sapiens' and target[1] == 'TOR1A']\n",
        "\n",
        "# Print the shared targets\n",
        "print(\"Shared targets associated with DYT1 (TOR1A):\")\n",
        "for target in shared_targets:\n",
        "    print(target)"
      ],
      "metadata": {
        "id": "DTXdArpRJkdq"
      },
      "execution_count": 4,
      "outputs": []
    },
    {
      "cell_type": "code",
      "source": [
        "from chembl_webresource_client.new_client import new_client\n",
        "\n",
        "# Function to retrieve targets associated with a ChEMBL ID\n",
        "def get_targets(chembl_id):\n",
        "    target_client = new_client.target\n",
        "    # Retrieve targets associated with the ChEMBL ID\n",
        "    res = target_client.filter(target=chembl_id).only(['target_chembl_id','organism','pref_name'])\n",
        "    res = res[:100]\n",
        "    # Extract the target ChEMBL IDs\n",
        "    return {(entry['organism'],entry['target_chembl_id'], entry['pref_name']) for entry in res}\n",
        "\n",
        "\n",
        "# Function to find shared targets between two ChEMBL IDs\n",
        "def find_shared_targets(chembl_id1, chembl_ids):\n",
        "    # Retrieve targets associated with each ChEMBL ID\n",
        "    targets1 = get_targets(chembl_id1)\n",
        "    # Find the intersection of targets to get shared targets\n",
        "    shared_targets = set()\n",
        "    for chembl_id in chembl_ids:\n",
        "        targets2 = get_targets(chembl_id)\n",
        "        shared_targets.update(targets1.intersection(targets2))\n",
        "    return shared_targets\n",
        "\n",
        "# Get targets associated with ChEMBL compounds\n",
        "chembl_targets = set()\n",
        "for similar_compounds in similar_compounds_dict.values():\n",
        "    chembl_targets.update(similar_compounds)\n",
        "\n",
        "TOR1A = 'CHEMBL1829'  # Define the TOR1A target\n",
        "\n",
        "# Find shared targets\n",
        "shared_targets = find_shared_targets(TOR1A, chembl_targets)\n",
        "print(\"Shared Targets:\", list(shared_targets))  # Convert set to list for printing"
      ],
      "metadata": {
        "colab": {
          "base_uri": "https://localhost:8080/",
          "height": 0
        },
        "id": "migWVnuja9Ht",
        "outputId": "7f36e404-bb9b-4cf4-961c-4f9a2a2e88b4"
      },
      "execution_count": 8,
      "outputs": [
        {
          "output_type": "stream",
          "name": "stdout",
          "text": [
            "Shared Targets: [('Homo sapiens', 'CHEMBL223', 'Alpha-1d adrenergic receptor'), ('Homo sapiens', 'CHEMBL1808', 'Angiotensin-converting enzyme'), ('Homo sapiens', 'CHEMBL1908', 'Cytochrome P450 11B1'), ('Homo sapiens', 'CHEMBL1994', 'Mineralocorticoid receptor'), ('Homo sapiens', 'CHEMBL1830', 'Ribonucleoside-diphosphate reductase M1 chain'), ('Homo sapiens', 'CHEMBL203', 'Epidermal growth factor receptor erbB1'), ('Homo sapiens', 'CHEMBL221', 'Cyclooxygenase-1'), ('Homo sapiens', 'CHEMBL1842', 'Myeloid cell surface antigen CD33'), ('Homo sapiens', 'CHEMBL1860', 'Thyroid hormone receptor alpha'), ('Homo sapiens', 'CHEMBL1839', 'Thyroid peroxidase'), ('Influenza A virus (A/Udorn/307/1972(H3N2))', 'CHEMBL2052', 'Influenza virus A matrix protein M2'), ('Homo sapiens', 'CHEMBL1790', 'Vasopressin V2 receptor'), ('Homo sapiens', 'CHEMBL1781', 'DNA topoisomerase I'), ('Homo sapiens', 'CHEMBL1951', 'Monoamine oxidase A'), ('Homo sapiens', 'CHEMBL1983', 'Serotonin 1d (5-HT1d) receptor'), ('Homo sapiens', 'CHEMBL2055', 'Retinoic acid receptor alpha'), ('Escherichia coli K-12', 'CHEMBL1840', 'Penicillin-binding protein 2'), ('Homo sapiens', 'CHEMBL1807', 'Sodium/potassium-transporting ATPase alpha-1 chain'), ('Homo sapiens', 'CHEMBL1969', 'Tyrosine 3-hydroxylase'), ('Homo sapiens', 'CHEMBL1846', 'Ryanodine receptor 1'), ('Homo sapiens', 'CHEMBL220', 'Acetylcholinesterase'), ('Homo sapiens', 'CHEMBL211', 'Muscarinic acetylcholine receptor M2'), ('Homo sapiens', 'CHEMBL2075', 'Cyclophilin B'), ('Homo sapiens', 'CHEMBL214', 'Serotonin 1a (5-HT1a) receptor'), ('Homo sapiens', 'CHEMBL1828', 'DNA polymerase alpha subunit'), ('Homo sapiens', 'CHEMBL1787', 'Steroid 5-alpha-reductase 1'), ('Homo sapiens', 'CHEMBL2074', 'Maltase-glucoamylase'), ('Homo sapiens', 'CHEMBL219', 'Dopamine D4 receptor'), ('Homo sapiens', 'CHEMBL1981', 'Insulin receptor'), ('Homo sapiens', 'CHEMBL210', 'Beta-2 adrenergic receptor'), ('Escherichia coli K-12', 'CHEMBL1956', 'D-alanylalanine synthetase'), ('Homo sapiens', 'CHEMBL2033', 'Cytochrome P450 11A1'), ('Homo sapiens', 'CHEMBL1854', 'Luteinizing hormone/Choriogonadotropin receptor'), ('Homo sapiens', 'CHEMBL208', 'Progesterone receptor'), ('Homo sapiens', 'CHEMBL205', 'Carbonic anhydrase II'), ('Escherichia coli', 'CHEMBL2065', 'Beta-lactamase TEM'), ('Homo sapiens', 'CHEMBL402', 'HMG-CoA reductase'), ('Homo sapiens', 'CHEMBL1971', 'Sulfonylurea receptor 2'), ('Homo sapiens', 'CHEMBL1910', 'Adenosine deaminase'), ('Escherichia coli K-12', 'CHEMBL1813', 'Penicillin-binding protein 1A'), ('Homo sapiens', 'CHEMBL1978', 'Cytochrome P450 19A1'), ('Homo sapiens', 'CHEMBL215', 'Arachidonate 5-lipoxygenase'), ('Homo sapiens', 'CHEMBL1950', 'Antithrombin-III'), ('Homo sapiens', 'CHEMBL2000', 'Plasma kallikrein'), ('Homo sapiens', 'CHEMBL1827', 'Phosphodiesterase 5A'), ('Escherichia coli K-12', 'CHEMBL1852', 'DNA-directed RNA polymerase beta chain'), ('Homo sapiens', 'CHEMBL1902', 'FK506-binding protein 1A'), ('Homo sapiens', 'CHEMBL1786', 'Inositol-1(or 4)-monophosphatase 1'), ('Homo sapiens', 'CHEMBL225', 'Serotonin 2c (5-HT2c) receptor'), ('Homo sapiens', 'CHEMBL1905', 'Fibronectin receptor beta'), ('Escherichia coli', 'CHEMBL1809', 'Dihydrofolate reductase'), ('Homo sapiens', 'CHEMBL1843', 'DOPA decarboxylase'), ('Homo sapiens', 'CHEMBL224', 'Serotonin 2a (5-HT2a) receptor'), ('Homo sapiens', 'CHEMBL2034', 'Glucocorticoid receptor'), ('Homo sapiens', 'CHEMBL1867', 'Alpha-2a adrenergic receptor'), ('Homo sapiens', 'CHEMBL1806', 'DNA topoisomerase II alpha'), ('Homo sapiens', 'CHEMBL2002', \"Inosine-5'-monophosphate dehydrogenase 2\"), ('Homo sapiens', 'CHEMBL216', 'Muscarinic acetylcholine receptor M1'), ('Homo sapiens', 'CHEMBL213', 'Beta-1 adrenergic receptor'), ('Homo sapiens', 'CHEMBL2056', 'Dopamine D1 receptor'), ('Homo sapiens', 'CHEMBL1952', 'Thymidylate synthase'), ('Homo sapiens', 'CHEMBL202', 'Dihydrofolate reductase'), ('Homo sapiens', 'CHEMBL2024', 'Follicle stimulating hormone receptor'), ('Homo sapiens', 'CHEMBL1970', 'Alcohol dehydrogenase alpha chain'), ('Homo sapiens', 'CHEMBL1871', 'Androgen Receptor'), ('Homo sapiens', 'CHEMBL1851', 'Cytochrome P450 7A1'), ('Homo sapiens', 'CHEMBL217', 'Dopamine D2 receptor'), ('Candida albicans (strain SC5314 / ATCC MYA-2876) (Yeast)', 'CHEMBL1780', 'Cytochrome P450 51'), ('Homo sapiens', 'CHEMBL1962', 'GABA receptor alpha-1 subunit'), ('Homo sapiens', 'CHEMBL212', 'Integrin alpha-IIb'), ('Homo sapiens', 'CHEMBL1973', 'Tyrosinase'), ('Homo sapiens', 'CHEMBL2023', 'Catechol O-methyltransferase'), ('Homo sapiens', 'CHEMBL1862', 'Tyrosine-protein kinase ABL'), ('Escherichia coli K-12', 'CHEMBL1858', 'DNA gyrase subunit A'), ('Homo sapiens', 'CHEMBL206', 'Estrogen receptor alpha'), ('Homo sapiens', 'CHEMBL1968', 'Epoxide hydrolase 1'), ('Homo sapiens', 'CHEMBL2039', 'Monoamine oxidase B'), ('Homo sapiens', 'CHEMBL1977', 'Vitamin D receptor'), ('Homo sapiens', 'CHEMBL1822', \"Inosine-5'-monophosphate dehydrogenase 1\"), ('Influenza A virus (A/Puerto Rico/8/1934(H1N1))', 'CHEMBL2051', 'Neuraminidase'), ('Homo sapiens', 'CHEMBL1941', 'Histamine H2 receptor'), ('Ascaris suum', 'CHEMBL1884', 'Nicotinic acetylcholine receptor alpha subunit'), ('Homo sapiens', 'CHEMBL222', 'Norepinephrine transporter'), ('Homo sapiens', 'CHEMBL1935', 'Aldehyde dehydrogenase'), ('Escherichia coli', 'CHEMBL1826', 'DNA gyrase subunit B'), ('Homo sapiens', 'CHEMBL1963', 'Thyroid stimulating hormone receptor'), ('Homo sapiens', 'CHEMBL1976', 'Growth hormone receptor'), ('Homo sapiens', 'CHEMBL1898', 'Serotonin 1b (5-HT1b) receptor'), ('Homo sapiens', 'CHEMBL1859', 'Voltage-gated T-type calcium channel alpha-1H subunit'), ('Herpes simplex virus (type 1 / strain 17)', 'CHEMBL1872', 'Human herpesvirus 1 DNA polymerase'), ('Escherichia coli K-12', 'CHEMBL1857', 'Enoyl-[acyl-carrier-protein] reductase'), ('Homo sapiens', 'CHEMBL218', 'Cannabinoid CB1 receptor'), ('Homo sapiens', 'CHEMBL209', 'Trypsin I'), ('Homo sapiens', 'CHEMBL1782', 'Farnesyl diphosphate synthase'), ('Homo sapiens', 'CHEMBL204', 'Thrombin'), ('Homo sapiens', 'CHEMBL1848', 'Tubulin beta-2 chain'), ('Escherichia coli K-12', 'CHEMBL1984', 'UDP-N-acetylglucosamine 1-carboxyvinyltransferase'), ('Homo sapiens', 'CHEMBL1801', 'Plasminogen'), ('Plasmodium falciparum K1', 'CHEMBL1939', 'Dihydrofolate reductase'), ('Homo sapiens', 'CHEMBL1812', 'Pancreatic lipase')]\n"
          ]
        }
      ]
    },
    {
      "cell_type": "markdown",
      "source": [
        "https://hpo.jax.org/app/browse/disease/ORPHA:98807\n",
        "\n",
        "https://hpo.jax.org/app/browse/gene/1861"
      ],
      "metadata": {
        "id": "lVPn1ixy6qpj"
      }
    },
    {
      "cell_type": "code",
      "source": [
        "https://hpo.jax.org/app/browse/disease/ORPHA:98807"
      ],
      "metadata": {
        "id": "IcgLGAB66pgq"
      },
      "execution_count": null,
      "outputs": []
    }
  ]
}